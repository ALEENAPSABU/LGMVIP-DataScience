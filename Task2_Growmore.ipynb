{
  "nbformat": 4,
  "nbformat_minor": 0,
  "metadata": {
    "colab": {
      "name": "Task2 Growmore.ipynb",
      "provenance": [],
      "collapsed_sections": []
    },
    "kernelspec": {
      "display_name": "Python 3",
      "name": "python3"
    },
    "language_info": {
      "name": "python"
    }
  },
  "cells": [
    {
      "cell_type": "markdown",
      "metadata": {
        "id": "_P46V2f7oxfA"
      },
      "source": [
        "LETS GROW MORE\n",
        "\n",
        "Data Science Internship(LGM VIP-SEPT 2021)\n",
        "\n",
        "TASK 2:Stock Price Prediction and Forecasting using Stacked LSTM\n",
        "\n",
        "BEGINNER LEVEL TASK 2\n",
        "\n",
        "By:ALEENA P SABU\n",
        "\n"
      ]
    },
    {
      "cell_type": "markdown",
      "metadata": {
        "id": "XUvYm0Yw4fH1"
      },
      "source": [
        "PART1 DATA PREPROCESSING"
      ]
    },
    {
      "cell_type": "markdown",
      "metadata": {
        "id": "2NnhJIFRqT1l"
      },
      "source": [
        "**IMPORTING THE REQUIRED LIBRARIES**\n",
        "\n",
        "\n",
        "\n"
      ]
    },
    {
      "cell_type": "code",
      "metadata": {
        "id": "kyo6L0-YooP_"
      },
      "source": [
        "# Data Preprocessing\n",
        "import numpy as np #Using NumPy mathematical and logical operations on arrays can be performed\n",
        "import matplotlib.pyplot as plt #used for creating a figure, creating a plotting area, plotting lines, adding plot labels, etc.\n",
        "import pandas as pd # #bringing all of the pandas functionality to the python script "
      ],
      "execution_count": 19,
      "outputs": []
    },
    {
      "cell_type": "markdown",
      "metadata": {
        "id": "ZtCyN8E9znqk"
      },
      "source": [
        "**READING THE DATA FILE**"
      ]
    },
    {
      "cell_type": "code",
      "metadata": {
        "colab": {
          "base_uri": "https://localhost:8080/",
          "height": 203
        },
        "id": "97ytB0DUzrzU",
        "outputId": "c143ea20-61da-4b5e-b719-068ba5847d0f"
      },
      "source": [
        "url = \"https://raw.githubusercontent.com/mwitiderrick/stockprice/master/NSE-TATAGLOBAL.csv\"\n",
        "dataset_train = pd.read_csv(url)\n",
        "training_set = dataset_train.iloc[:, 1:2].values\n",
        "dataset_train.head()"
      ],
      "execution_count": 37,
      "outputs": [
        {
          "output_type": "execute_result",
          "data": {
            "text/html": [
              "<div>\n",
              "<style scoped>\n",
              "    .dataframe tbody tr th:only-of-type {\n",
              "        vertical-align: middle;\n",
              "    }\n",
              "\n",
              "    .dataframe tbody tr th {\n",
              "        vertical-align: top;\n",
              "    }\n",
              "\n",
              "    .dataframe thead th {\n",
              "        text-align: right;\n",
              "    }\n",
              "</style>\n",
              "<table border=\"1\" class=\"dataframe\">\n",
              "  <thead>\n",
              "    <tr style=\"text-align: right;\">\n",
              "      <th></th>\n",
              "      <th>Date</th>\n",
              "      <th>Open</th>\n",
              "      <th>High</th>\n",
              "      <th>Low</th>\n",
              "      <th>Last</th>\n",
              "      <th>Close</th>\n",
              "      <th>Total Trade Quantity</th>\n",
              "      <th>Turnover (Lacs)</th>\n",
              "    </tr>\n",
              "  </thead>\n",
              "  <tbody>\n",
              "    <tr>\n",
              "      <th>0</th>\n",
              "      <td>2018-09-28</td>\n",
              "      <td>234.05</td>\n",
              "      <td>235.95</td>\n",
              "      <td>230.20</td>\n",
              "      <td>233.50</td>\n",
              "      <td>233.75</td>\n",
              "      <td>3069914</td>\n",
              "      <td>7162.35</td>\n",
              "    </tr>\n",
              "    <tr>\n",
              "      <th>1</th>\n",
              "      <td>2018-09-27</td>\n",
              "      <td>234.55</td>\n",
              "      <td>236.80</td>\n",
              "      <td>231.10</td>\n",
              "      <td>233.80</td>\n",
              "      <td>233.25</td>\n",
              "      <td>5082859</td>\n",
              "      <td>11859.95</td>\n",
              "    </tr>\n",
              "    <tr>\n",
              "      <th>2</th>\n",
              "      <td>2018-09-26</td>\n",
              "      <td>240.00</td>\n",
              "      <td>240.00</td>\n",
              "      <td>232.50</td>\n",
              "      <td>235.00</td>\n",
              "      <td>234.25</td>\n",
              "      <td>2240909</td>\n",
              "      <td>5248.60</td>\n",
              "    </tr>\n",
              "    <tr>\n",
              "      <th>3</th>\n",
              "      <td>2018-09-25</td>\n",
              "      <td>233.30</td>\n",
              "      <td>236.75</td>\n",
              "      <td>232.00</td>\n",
              "      <td>236.25</td>\n",
              "      <td>236.10</td>\n",
              "      <td>2349368</td>\n",
              "      <td>5503.90</td>\n",
              "    </tr>\n",
              "    <tr>\n",
              "      <th>4</th>\n",
              "      <td>2018-09-24</td>\n",
              "      <td>233.55</td>\n",
              "      <td>239.20</td>\n",
              "      <td>230.75</td>\n",
              "      <td>234.00</td>\n",
              "      <td>233.30</td>\n",
              "      <td>3423509</td>\n",
              "      <td>7999.55</td>\n",
              "    </tr>\n",
              "  </tbody>\n",
              "</table>\n",
              "</div>"
            ],
            "text/plain": [
              "         Date    Open    High  ...   Close  Total Trade Quantity  Turnover (Lacs)\n",
              "0  2018-09-28  234.05  235.95  ...  233.75               3069914          7162.35\n",
              "1  2018-09-27  234.55  236.80  ...  233.25               5082859         11859.95\n",
              "2  2018-09-26  240.00  240.00  ...  234.25               2240909          5248.60\n",
              "3  2018-09-25  233.30  236.75  ...  236.10               2349368          5503.90\n",
              "4  2018-09-24  233.55  239.20  ...  233.30               3423509          7999.55\n",
              "\n",
              "[5 rows x 8 columns]"
            ]
          },
          "metadata": {},
          "execution_count": 37
        }
      ]
    },
    {
      "cell_type": "markdown",
      "metadata": {
        "id": "hW-JHDFv4nO6"
      },
      "source": [
        "**FEATURE SCALING**"
      ]
    },
    {
      "cell_type": "code",
      "metadata": {
        "id": "qVXreOSz4sP6"
      },
      "source": [
        "from sklearn.preprocessing import MinMaxScaler #Transform features by scaling each feature to a given range\n",
        "sc = MinMaxScaler(feature_range = (0, 1))\n",
        "training_set_scaled = sc.fit_transform(training_set)"
      ],
      "execution_count": 21,
      "outputs": []
    },
    {
      "cell_type": "markdown",
      "metadata": {
        "id": "gXwGfW62503I"
      },
      "source": [
        "**CREATING A DATA STRUCTURE WITH 60 TIMESTEPS AND 1 OUTPUT**"
      ]
    },
    {
      "cell_type": "code",
      "metadata": {
        "id": "B7_-nDi05t1K"
      },
      "source": [
        "\n",
        "X_train = []\n",
        "y_train = []\n",
        "for i in range(60, 2035):\n",
        "    X_train.append(training_set_scaled[i-60:i, 0])\n",
        "    y_train.append(training_set_scaled[i, 0])\n",
        "X_train, y_train = np.array(X_train), np.array(y_train)"
      ],
      "execution_count": 22,
      "outputs": []
    },
    {
      "cell_type": "markdown",
      "metadata": {
        "id": "OXMfzicZ6RVX"
      },
      "source": [
        "**RESHAPING**"
      ]
    },
    {
      "cell_type": "code",
      "metadata": {
        "id": "tc3LRBWH6R_e"
      },
      "source": [
        "\n",
        "X_train = np.reshape(X_train, (X_train.shape[0], X_train.shape[1], 1))"
      ],
      "execution_count": 23,
      "outputs": []
    },
    {
      "cell_type": "markdown",
      "metadata": {
        "id": "q_Rzjqq-6eme"
      },
      "source": [
        "PART 2 BUILDING THE RNN"
      ]
    },
    {
      "cell_type": "markdown",
      "metadata": {
        "id": "tCpnbBEz7gQR"
      },
      "source": [
        "**IMPORT KERAS LIBRARIES AND PACKAGES**"
      ]
    },
    {
      "cell_type": "code",
      "metadata": {
        "id": "RrBgbaAA7aum"
      },
      "source": [
        "from keras.models import Sequential\n",
        "from keras.layers import Dense\n",
        "from keras.layers import LSTM\n",
        "from keras.layers import Dropout"
      ],
      "execution_count": 24,
      "outputs": []
    },
    {
      "cell_type": "markdown",
      "metadata": {
        "id": "aqaUJiOu8C2V"
      },
      "source": [
        "**INITIALIZE RNN**"
      ]
    },
    {
      "cell_type": "code",
      "metadata": {
        "id": "gH90pJ5t76Gl"
      },
      "source": [
        "regressor = Sequential()\n"
      ],
      "execution_count": 25,
      "outputs": []
    },
    {
      "cell_type": "markdown",
      "metadata": {
        "id": "jpmpcVV58RcT"
      },
      "source": [
        "**ADDING THE 4 LSTM LAYERS AND OUTPUT LAYER**"
      ]
    },
    {
      "cell_type": "code",
      "metadata": {
        "id": "zwf8-h4z76yD"
      },
      "source": [
        "# Adding the first LSTM layer and some Dropout regularisation\n",
        "regressor.add(LSTM(units = 50, return_sequences = True, input_shape = (X_train.shape[1], 1)))\n",
        "regressor.add(Dropout(0.2))\n",
        "\n",
        "# Adding a second LSTM layer and some Dropout regularisation\n",
        "regressor.add(LSTM(units = 50, return_sequences = True))\n",
        "regressor.add(Dropout(0.2))\n",
        "\n",
        "\n",
        "# Adding a third LSTM layer and some Dropout regularisation\n",
        "regressor.add(LSTM(units = 50, return_sequences = True))\n",
        "regressor.add(Dropout(0.2))\n",
        "\n",
        "\n",
        "# Adding a fourth LSTM layer and some Dropout regularisation\n",
        "regressor.add(LSTM(units = 50))\n",
        "regressor.add(Dropout(0.2))\n",
        "\n",
        "\n",
        "# Adding the output layer\n",
        "regressor.add(Dense(units = 1))"
      ],
      "execution_count": 26,
      "outputs": []
    },
    {
      "cell_type": "markdown",
      "metadata": {
        "id": "eN3mW8Xc8mzJ"
      },
      "source": [
        "**COMPILING RNN AND FITTING IT TO TRAINING SET**"
      ]
    },
    {
      "cell_type": "code",
      "metadata": {
        "colab": {
          "base_uri": "https://localhost:8080/"
        },
        "id": "h0WgsQdJ8l_p",
        "outputId": "ac8cbfad-9a14-405a-8da6-8821b7ae385d"
      },
      "source": [
        "regressor.compile(optimizer = 'adam', loss = 'mean_squared_error')\n",
        "\n",
        "regressor.fit(X_train, y_train, epochs = 100, batch_size = 32)"
      ],
      "execution_count": 30,
      "outputs": [
        {
          "output_type": "stream",
          "name": "stdout",
          "text": [
            "Epoch 1/100\n",
            "62/62 [==============================] - 14s 116ms/step - loss: 0.0094\n",
            "Epoch 2/100\n",
            "62/62 [==============================] - 7s 115ms/step - loss: 0.0028\n",
            "Epoch 3/100\n",
            "62/62 [==============================] - 7s 116ms/step - loss: 0.0026\n",
            "Epoch 4/100\n",
            "62/62 [==============================] - 7s 116ms/step - loss: 0.0025\n",
            "Epoch 5/100\n",
            "62/62 [==============================] - 7s 116ms/step - loss: 0.0021\n",
            "Epoch 6/100\n",
            "62/62 [==============================] - 7s 115ms/step - loss: 0.0021\n",
            "Epoch 7/100\n",
            "62/62 [==============================] - 7s 115ms/step - loss: 0.0019\n",
            "Epoch 8/100\n",
            "62/62 [==============================] - 7s 116ms/step - loss: 0.0019\n",
            "Epoch 9/100\n",
            "62/62 [==============================] - 7s 116ms/step - loss: 0.0020\n",
            "Epoch 10/100\n",
            "62/62 [==============================] - 7s 114ms/step - loss: 0.0019\n",
            "Epoch 11/100\n",
            "62/62 [==============================] - 7s 116ms/step - loss: 0.0020\n",
            "Epoch 12/100\n",
            "62/62 [==============================] - 7s 117ms/step - loss: 0.0018\n",
            "Epoch 13/100\n",
            "62/62 [==============================] - 7s 114ms/step - loss: 0.0015\n",
            "Epoch 14/100\n",
            "62/62 [==============================] - 7s 115ms/step - loss: 0.0017\n",
            "Epoch 15/100\n",
            "62/62 [==============================] - 7s 115ms/step - loss: 0.0015\n",
            "Epoch 16/100\n",
            "62/62 [==============================] - 7s 115ms/step - loss: 0.0018\n",
            "Epoch 17/100\n",
            "62/62 [==============================] - 7s 116ms/step - loss: 0.0018\n",
            "Epoch 18/100\n",
            "62/62 [==============================] - 7s 115ms/step - loss: 0.0014\n",
            "Epoch 19/100\n",
            "62/62 [==============================] - 7s 113ms/step - loss: 0.0013\n",
            "Epoch 20/100\n",
            "62/62 [==============================] - 7s 114ms/step - loss: 0.0016\n",
            "Epoch 21/100\n",
            "62/62 [==============================] - 7s 116ms/step - loss: 0.0014\n",
            "Epoch 22/100\n",
            "62/62 [==============================] - 7s 114ms/step - loss: 0.0014\n",
            "Epoch 23/100\n",
            "62/62 [==============================] - 7s 117ms/step - loss: 0.0012\n",
            "Epoch 24/100\n",
            "62/62 [==============================] - 7s 116ms/step - loss: 0.0012\n",
            "Epoch 25/100\n",
            "62/62 [==============================] - 7s 116ms/step - loss: 0.0013\n",
            "Epoch 26/100\n",
            "62/62 [==============================] - 7s 115ms/step - loss: 0.0012\n",
            "Epoch 27/100\n",
            "62/62 [==============================] - 7s 114ms/step - loss: 0.0012\n",
            "Epoch 28/100\n",
            "62/62 [==============================] - 7s 116ms/step - loss: 0.0011\n",
            "Epoch 29/100\n",
            "62/62 [==============================] - 7s 115ms/step - loss: 0.0013\n",
            "Epoch 30/100\n",
            "62/62 [==============================] - 7s 115ms/step - loss: 0.0011\n",
            "Epoch 31/100\n",
            "62/62 [==============================] - 7s 115ms/step - loss: 0.0012\n",
            "Epoch 32/100\n",
            "62/62 [==============================] - 7s 115ms/step - loss: 0.0012\n",
            "Epoch 33/100\n",
            "62/62 [==============================] - 7s 115ms/step - loss: 0.0011\n",
            "Epoch 34/100\n",
            "62/62 [==============================] - 7s 116ms/step - loss: 0.0011\n",
            "Epoch 35/100\n",
            "62/62 [==============================] - 7s 116ms/step - loss: 0.0011\n",
            "Epoch 36/100\n",
            "62/62 [==============================] - 7s 116ms/step - loss: 0.0011\n",
            "Epoch 37/100\n",
            "62/62 [==============================] - 7s 115ms/step - loss: 9.2915e-04\n",
            "Epoch 38/100\n",
            "62/62 [==============================] - 7s 116ms/step - loss: 8.8987e-04\n",
            "Epoch 39/100\n",
            "62/62 [==============================] - 7s 116ms/step - loss: 0.0010\n",
            "Epoch 40/100\n",
            "62/62 [==============================] - 7s 116ms/step - loss: 9.7469e-04\n",
            "Epoch 41/100\n",
            "62/62 [==============================] - 7s 117ms/step - loss: 0.0010\n",
            "Epoch 42/100\n",
            "62/62 [==============================] - 7s 116ms/step - loss: 9.1923e-04\n",
            "Epoch 43/100\n",
            "62/62 [==============================] - 7s 115ms/step - loss: 0.0011\n",
            "Epoch 44/100\n",
            "62/62 [==============================] - 7s 117ms/step - loss: 0.0011\n",
            "Epoch 45/100\n",
            "62/62 [==============================] - 7s 119ms/step - loss: 9.4676e-04\n",
            "Epoch 46/100\n",
            "62/62 [==============================] - 7s 116ms/step - loss: 9.0274e-04\n",
            "Epoch 47/100\n",
            "62/62 [==============================] - 7s 116ms/step - loss: 7.5863e-04\n",
            "Epoch 48/100\n",
            "62/62 [==============================] - 7s 116ms/step - loss: 0.0010\n",
            "Epoch 49/100\n",
            "62/62 [==============================] - 7s 117ms/step - loss: 7.8401e-04\n",
            "Epoch 50/100\n",
            "62/62 [==============================] - 7s 116ms/step - loss: 7.6072e-04\n",
            "Epoch 51/100\n",
            "62/62 [==============================] - 7s 116ms/step - loss: 8.0550e-04\n",
            "Epoch 52/100\n",
            "62/62 [==============================] - 7s 116ms/step - loss: 8.3229e-04\n",
            "Epoch 53/100\n",
            "62/62 [==============================] - 7s 118ms/step - loss: 7.7861e-04\n",
            "Epoch 54/100\n",
            "62/62 [==============================] - 7s 117ms/step - loss: 8.5472e-04\n",
            "Epoch 55/100\n",
            "62/62 [==============================] - 7s 117ms/step - loss: 8.9340e-04\n",
            "Epoch 56/100\n",
            "62/62 [==============================] - 7s 117ms/step - loss: 8.7450e-04\n",
            "Epoch 57/100\n",
            "62/62 [==============================] - 7s 116ms/step - loss: 8.2036e-04\n",
            "Epoch 58/100\n",
            "62/62 [==============================] - 7s 116ms/step - loss: 8.8915e-04\n",
            "Epoch 59/100\n",
            "62/62 [==============================] - 7s 119ms/step - loss: 9.4447e-04\n",
            "Epoch 60/100\n",
            "62/62 [==============================] - 7s 116ms/step - loss: 7.4530e-04\n",
            "Epoch 61/100\n",
            "62/62 [==============================] - 7s 116ms/step - loss: 7.4849e-04\n",
            "Epoch 62/100\n",
            "62/62 [==============================] - 7s 116ms/step - loss: 8.9885e-04\n",
            "Epoch 63/100\n",
            "62/62 [==============================] - 7s 116ms/step - loss: 7.5309e-04\n",
            "Epoch 64/100\n",
            "62/62 [==============================] - 7s 115ms/step - loss: 8.7824e-04\n",
            "Epoch 65/100\n",
            "62/62 [==============================] - 7s 115ms/step - loss: 8.4573e-04\n",
            "Epoch 66/100\n",
            "62/62 [==============================] - 7s 117ms/step - loss: 8.1483e-04\n",
            "Epoch 67/100\n",
            "62/62 [==============================] - 7s 118ms/step - loss: 7.1627e-04\n",
            "Epoch 68/100\n",
            "62/62 [==============================] - 7s 115ms/step - loss: 6.5028e-04\n",
            "Epoch 69/100\n",
            "62/62 [==============================] - 7s 116ms/step - loss: 6.6971e-04\n",
            "Epoch 70/100\n",
            "62/62 [==============================] - 7s 116ms/step - loss: 7.3026e-04\n",
            "Epoch 71/100\n",
            "62/62 [==============================] - 7s 116ms/step - loss: 7.6732e-04\n",
            "Epoch 72/100\n",
            "62/62 [==============================] - 7s 116ms/step - loss: 7.3425e-04\n",
            "Epoch 73/100\n",
            "62/62 [==============================] - 7s 116ms/step - loss: 7.6782e-04\n",
            "Epoch 74/100\n",
            "62/62 [==============================] - 7s 116ms/step - loss: 6.6687e-04\n",
            "Epoch 75/100\n",
            "62/62 [==============================] - 7s 115ms/step - loss: 7.9808e-04\n",
            "Epoch 76/100\n",
            "62/62 [==============================] - 7s 116ms/step - loss: 7.3593e-04\n",
            "Epoch 77/100\n",
            "62/62 [==============================] - 7s 115ms/step - loss: 7.3124e-04\n",
            "Epoch 78/100\n",
            "62/62 [==============================] - 7s 117ms/step - loss: 6.6785e-04\n",
            "Epoch 79/100\n",
            "62/62 [==============================] - 7s 116ms/step - loss: 9.2194e-04\n",
            "Epoch 80/100\n",
            "62/62 [==============================] - 7s 116ms/step - loss: 7.6399e-04\n",
            "Epoch 81/100\n",
            "62/62 [==============================] - 7s 117ms/step - loss: 5.9244e-04\n",
            "Epoch 82/100\n",
            "62/62 [==============================] - 7s 115ms/step - loss: 7.3417e-04\n",
            "Epoch 83/100\n",
            "62/62 [==============================] - 7s 115ms/step - loss: 6.3687e-04\n",
            "Epoch 84/100\n",
            "62/62 [==============================] - 7s 115ms/step - loss: 5.8789e-04\n",
            "Epoch 85/100\n",
            "62/62 [==============================] - 7s 116ms/step - loss: 6.5698e-04\n",
            "Epoch 86/100\n",
            "62/62 [==============================] - 7s 116ms/step - loss: 7.8126e-04\n",
            "Epoch 87/100\n",
            "62/62 [==============================] - 7s 116ms/step - loss: 6.7373e-04\n",
            "Epoch 88/100\n",
            "62/62 [==============================] - 7s 116ms/step - loss: 7.2542e-04\n",
            "Epoch 89/100\n",
            "62/62 [==============================] - 7s 117ms/step - loss: 6.9571e-04\n",
            "Epoch 90/100\n",
            "62/62 [==============================] - 7s 116ms/step - loss: 6.8182e-04\n",
            "Epoch 91/100\n",
            "62/62 [==============================] - 7s 115ms/step - loss: 6.4816e-04\n",
            "Epoch 92/100\n",
            "62/62 [==============================] - 7s 117ms/step - loss: 6.7548e-04\n",
            "Epoch 93/100\n",
            "62/62 [==============================] - 7s 116ms/step - loss: 6.3703e-04\n",
            "Epoch 94/100\n",
            "62/62 [==============================] - 7s 116ms/step - loss: 6.3446e-04\n",
            "Epoch 95/100\n",
            "62/62 [==============================] - 7s 117ms/step - loss: 8.2971e-04\n",
            "Epoch 96/100\n",
            "62/62 [==============================] - 7s 116ms/step - loss: 6.6610e-04\n",
            "Epoch 97/100\n",
            "62/62 [==============================] - 7s 117ms/step - loss: 6.9701e-04\n",
            "Epoch 98/100\n",
            "62/62 [==============================] - 7s 116ms/step - loss: 6.5707e-04\n",
            "Epoch 99/100\n",
            "62/62 [==============================] - 7s 116ms/step - loss: 6.0067e-04\n",
            "Epoch 100/100\n",
            "62/62 [==============================] - 7s 116ms/step - loss: 5.7983e-04\n"
          ]
        },
        {
          "output_type": "execute_result",
          "data": {
            "text/plain": [
              "<keras.callbacks.History at 0x7f1cb87e40d0>"
            ]
          },
          "metadata": {},
          "execution_count": 30
        }
      ]
    },
    {
      "cell_type": "markdown",
      "metadata": {
        "id": "xAS-fSJz9C9y"
      },
      "source": [
        "PART 3 MAKING PREDICTIONS AND VISUALISING THE RESULTS"
      ]
    },
    {
      "cell_type": "markdown",
      "metadata": {
        "id": "2HkPHw2s9Ccp"
      },
      "source": [
        "**GETTING  REAL STOCK PRICE**"
      ]
    },
    {
      "cell_type": "code",
      "metadata": {
        "id": "A1nEHi_yArT0"
      },
      "source": [
        "url='https://raw.githubusercontent.com/mwitiderrick/stockprice/master/tatatest.csv'\n",
        "dataset_test = pd.read_csv(url)\n",
        "real_stock_price = dataset_test.iloc[:, 1:2].values"
      ],
      "execution_count": 32,
      "outputs": []
    },
    {
      "cell_type": "markdown",
      "metadata": {
        "id": "74uUOq8ZFp7y"
      },
      "source": [
        "**GETTING PREDICTED STOCK PRICE**"
      ]
    },
    {
      "cell_type": "code",
      "metadata": {
        "id": "x2jxqae0Dbwz"
      },
      "source": [
        "dataset_total = pd.concat((dataset_train['Open'], dataset_test['Open']), axis = 0)\n",
        "inputs = dataset_total[len(dataset_total) - len(dataset_test) - 60:].values\n",
        "inputs = inputs.reshape(-1,1)\n",
        "inputs = sc.transform(inputs)\n",
        "X_test = []\n",
        "for i in range(60, 76):\n",
        "    X_test.append(inputs[i-60:i, 0])\n",
        "X_test = np.array(X_test)\n",
        "X_test = np.reshape(X_test, (X_test.shape[0], X_test.shape[1], 1))\n",
        "predicted_stock_price = regressor.predict(X_test)\n",
        "predicted_stock_price = sc.inverse_transform(predicted_stock_price)"
      ],
      "execution_count": 33,
      "outputs": []
    },
    {
      "cell_type": "markdown",
      "metadata": {
        "id": "2GCd0Qo5GocR"
      },
      "source": [
        "**VISUALISING THE RESULTS**"
      ]
    },
    {
      "cell_type": "code",
      "metadata": {
        "colab": {
          "base_uri": "https://localhost:8080/",
          "height": 295
        },
        "id": "rQH3qiEaGikB",
        "outputId": "b5819c3d-6322-45ff-f42d-ff2d53e16a6c"
      },
      "source": [
        "# Visualising the results\n",
        "plt.plot(real_stock_price, color = 'green', label = 'Real TATA Stock Price')\n",
        "plt.plot(predicted_stock_price, color = 'orange', label = 'Predicted TATA Stock Price')\n",
        "plt.title('TATA Stock Price Prediction')\n",
        "plt.xlabel('Time')\n",
        "plt.ylabel('TATA Stock Price')\n",
        "plt.legend()\n",
        "plt.show()"
      ],
      "execution_count": 38,
      "outputs": [
        {
          "output_type": "display_data",
          "data": {
            "image/png": "[encoded data removed]",
            "text/plain": [
              "<Figure size 432x288 with 1 Axes>"
            ]
          },
          "metadata": {
            "needs_background": "light"
          }
        }
      ]
    },
    {
      "cell_type": "markdown",
      "metadata": {
        "id": "fKjb17DKGnL-"
      },
      "source": [
        "From this graph the distance between real values and predicted values can be compared.\n",
        "\n",
        "Thank you for visiting."
      ]
    }
  ]
}